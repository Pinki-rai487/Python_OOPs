{
  "nbformat": 4,
  "nbformat_minor": 0,
  "metadata": {
    "colab": {
      "provenance": []
    },
    "kernelspec": {
      "name": "python3",
      "display_name": "Python 3"
    },
    "language_info": {
      "name": "python"
    }
  },
  "cells": [
    {
      "cell_type": "markdown",
      "source": [
        "# **THEORY QUESTIONS**\n"
      ],
      "metadata": {
        "id": "rcIPZ5tJjWOp"
      }
    },
    {
      "cell_type": "markdown",
      "source": [
        "1. What is Object-Oriented Programming (OOP) ?\n",
        "\n",
        "Ans>  Object Oriented Programming (OOP) is a programming paradigm based on the concept of objects, which can contain data and code: data in the form of fields (often known as attributes or properties) and code in the form of procedures (often known as methods).\n",
        "\n",
        "Object Oriented Programming (OOP) Tutorial with sections covering key concepts and examples in different popular programming languages: Python, Java, and C++.\n",
        "\n"
      ],
      "metadata": {
        "id": "DXAn_XZXjcRO"
      }
    },
    {
      "cell_type": "markdown",
      "source": [
        "2. What is a class in OOP ?\n",
        "\n",
        "Ans> A blueprint or template for creating objects. Defines attributes and behaviors."
      ],
      "metadata": {
        "id": "oN2x1n8IjybD"
      }
    },
    {
      "cell_type": "markdown",
      "source": [
        "3. What is an object in OOP ?\n",
        "\n",
        "Ans> An instance of a class. Each object has state (attributes) and behavior (methods)."
      ],
      "metadata": {
        "id": "vm4GJeoxkNqa"
      }
    },
    {
      "cell_type": "markdown",
      "source": [
        "4. What is the difference between abstraction and encapsulation ?\n",
        "\n",
        "Ans> Abstraction:\n",
        "\n",
        "       1. Simplifying complex systems by exposing only essential parts.\n",
        "       2. Uses abstract classes and methods\n",
        "       3. focuses on what actions an object can perform, without showing how.\n",
        "    \n",
        "    Encapsulation:\n",
        "\n",
        "       1. Protecting data by restricting access.\n",
        "       2. Uses access control (public, private, protected).\n",
        "       3. focuses on how data is stored and manipulated.\n",
        "\n"
      ],
      "metadata": {
        "id": "db0S6NU5lCEh"
      }
    },
    {
      "cell_type": "markdown",
      "source": [
        "5. What are dunder methods in Python ?\n",
        "\n",
        "Ans>  Dunder are the methods starting and ending with double underscores '__'. They are defined by built-in classes in Python and commonly used for operator overloading. Dunder here means \"Double Under (Underscores)\"."
      ],
      "metadata": {
        "id": "jgPC2i0Plwph"
      }
    },
    {
      "cell_type": "markdown",
      "source": [],
      "metadata": {
        "id": "rqiFfkaImPfV"
      }
    },
    {
      "cell_type": "markdown",
      "source": [
        "6. Explain the concept of inheritance in OOP ?\n",
        "\n",
        "Ans>  Inheritance is a fundamental concept in object-oriented programming (OOP) that allows a class (called a child or derived class) to inherit attributes and methods from another class (called a parent or base class)."
      ],
      "metadata": {
        "id": "Q9MLBE-6mPi8"
      }
    },
    {
      "cell_type": "markdown",
      "source": [
        "7. What is polymorphism in OOP ?\n",
        "\n",
        "Ans> Polymorphism is a foundational concept in programming that allows entities like functions, methods or operators to behave differently based on the type of data they are handling. Derived from Greek, the term literally means \"many forms\".\n",
        "\n",
        "Python's dynamic typing and duck typing make it inherently polymorphic. Functions, operators and even built-in objects like loops exhibit polymorphic behavior."
      ],
      "metadata": {
        "id": "HDa09yGTmbYU"
      }
    },
    {
      "cell_type": "markdown",
      "source": [
        "8.  How is encapsulation achieved in Python ?\n",
        "\n",
        "Ans> In Python, encapsulation is achieved through the use of access modifiers. These access modifiers control the visibility of class attributes and methods from outside the class. The three common access modifiers are:\n",
        "\n",
        " 1. Public: Members are accessible from outside the class.\n",
        "\n",
        " 2. Protected: Members are accessible within the class and its subclasses.\n",
        "\n",
        " 3. Private: Members are only accessible within the class."
      ],
      "metadata": {
        "id": "Ic2tn-pcmnJq"
      }
    },
    {
      "cell_type": "markdown",
      "source": [
        "9. What is a constructor in Python ?\n",
        "\n",
        "Ans> In Python, a constructor is a special method that is called automatically when an object is created from a class. Its main role is to initialize the object by setting up its attributes or state.\n",
        "\n",
        "The method __new__ is the constructor that creates a new instance of the class."
      ],
      "metadata": {
        "id": "gokU4gtpnDAb"
      }
    },
    {
      "cell_type": "markdown",
      "source": [
        "10. What are class and static methods in Python ?\n",
        "\n",
        "Ans>\n",
        "\n",
        "  ** Class Method:**  A class method is a method that is bound to the class and not the instance of the class. It takes cls as its first parameter, which refers to the class itself, rather than an instance of the class. This allows class methods to modify class state that applies across all instances of the class.\n",
        "\n",
        " **Static Method:**  A static method is a method that does not operate on an instance or class. It does not take self or cls as its first parameter. Static methods are defined using the @staticmethod decorator and can be called on the class itself or an instance of the class. They behave like plain functions but belong to the class’s namespace."
      ],
      "metadata": {
        "id": "hmd9FEh2neBK"
      }
    },
    {
      "cell_type": "markdown",
      "source": [
        "11.  What is method overloading in Python ?\n",
        "\n",
        "Ans> In many programming languages like C++ or Java, you can define multiple methods with the same name but different parameter lists. This concept is called method overloading.\n",
        "\n",
        "Python does not support method overloading by default. If it need to be define multiple methods with the same name, only the latest definition will be used."
      ],
      "metadata": {
        "id": "2e4FK0pKGSW1"
      }
    },
    {
      "cell_type": "markdown",
      "source": [
        "12. H What is method overriding in OOP ?\n",
        "\n",
        "Ans> Method overriding is a core concept in object-oriented programming (OOP) that allows a subclass to provide a specific implementation of a method that is already defined in its superclass. This is essential for dynamic polymorphism – enabling code flexibility and reusability."
      ],
      "metadata": {
        "id": "SC1rjf1BGoT5"
      }
    },
    {
      "cell_type": "markdown",
      "source": [
        "13. What is a property decorator in Python ?\n",
        "\n",
        "Ans> property decorator is a built-in decorator in Python which is helpful in defining the properties effortlessly without manually calling the inbuilt function property(). Which is used to return the property attributes of a class from the stated getter, setter and deleter as parameters."
      ],
      "metadata": {
        "id": "7pKyTXoaG7gr"
      }
    },
    {
      "cell_type": "markdown",
      "source": [
        "14.  Why is polymorphism important in OOP ?\n",
        "\n",
        "Ans> Polymorphism in OOPs helps to use overriding, overloading, inheritance in our code which makes it more readable, effective and faster."
      ],
      "metadata": {
        "id": "rWQ74Ht0HPlx"
      }
    },
    {
      "cell_type": "markdown",
      "source": [
        "15. What is an abstract class in Python ?\n",
        "\n",
        "Ans> In Python, an abstract class is a class that cannot be instantiated on its own and is designed to be a blueprint for other classes. Abstract classes allow us to define methods that must be implemented by subclasses, ensuring a consistent interface while still allowing the subclasses to provide specific implementations."
      ],
      "metadata": {
        "id": "ZmZkrux3IGHd"
      }
    },
    {
      "cell_type": "markdown",
      "source": [
        "16. What are the advantages of OOP ?\n",
        "\n",
        "Ans> 1. We can build the programs from standard working modules that communicate with one another, rather than having to start writing the code from scratch which leads to saving of development time and higher productivity.\n",
        "\n",
        "2. OOP language allows to break the program into the bit-sized problems that can be solved easily (one object at a time).\n",
        "\n",
        "3. The new technology promises greater programmer productivity, better quality of software and lesser maintenance cost.\n",
        "\n",
        "4. OOP systems can be easily upgraded from small to large systems.\n",
        "It is possible that multiple instances of objects co-exist without any interferenc"
      ],
      "metadata": {
        "id": "rXLSpQecIV02"
      }
    },
    {
      "cell_type": "markdown",
      "source": [
        "17. What is the difference between a class variable and an instance variable ?\n",
        "\n",
        "Ans>\n",
        "    Instance variable:\n",
        "\n",
        "    1. It is a variable whose value is instance-specific and now shared among instances.\n",
        "    2. These variables cannot be shared between classes. Instead, they only belong to one specific class.  \n",
        "    3. It normally retains values as long as the object exists.\n",
        "    4. Changes that are made to these variables through one object will not reflect in another object.\n",
        "\n",
        "    Class Variable:\n",
        "\n",
        "    1. It is a variable that defines a specific attribute or property for a class.  \n",
        "    2. These variables can be shared between class and its subclasses.\n",
        "    3. It normally retains values until the program terminates.\n",
        "    4. Changes that are made to these variables through one object will reflect in another object."
      ],
      "metadata": {
        "id": "FkDzYix0Iy_w"
      }
    },
    {
      "cell_type": "markdown",
      "source": [],
      "metadata": {
        "id": "KJAKgYw7J2fW"
      }
    },
    {
      "cell_type": "markdown",
      "source": [
        "18. What is multiple inheritance in Python ?\n",
        "\n",
        "Ans> When a class is derived from more than one base class it is called multiple Inheritance. The derived class inherits all the features of the base case."
      ],
      "metadata": {
        "id": "yKYCLlegJ2nb"
      }
    },
    {
      "cell_type": "markdown",
      "source": [
        "19.  Explain the purpose of ‘’__str__’ and ‘__repr__’ ‘ methods in Python ?\n",
        "\n",
        "Ans> ‘’__str__’  :     In python, it offers a human-readable representation of an object. It can be utilized for converting an object into a string, which makes it more user-friendly and understandable. More specifically, this method is primarily utilized for presenting information about an object in a format that can be easily interpreted by humans.     \n",
        "\n",
        "  ‘__repr__’ :    It supports an unambiguous representation of a Python object. The main objective of using this method is to return a string that can be further utilized for recreating the object entirely."
      ],
      "metadata": {
        "id": "vXtGy_CpKEWW"
      }
    },
    {
      "cell_type": "markdown",
      "source": [
        "20. H What is the significance of the ‘super()’ function in Python ?\n",
        "\n",
        "In Python, the super() function is used to refer to the parent class or superclass. It allows you to call methods defined in the superclass from the subclass, enabling you to extend and customize the functionality inherited from the parent class."
      ],
      "metadata": {
        "id": "ViRtPnlvL1Yx"
      }
    },
    {
      "cell_type": "markdown",
      "source": [
        "21. What is the significance of the __del__ method in Python ?\n",
        "\n",
        "Ans> The __del__ method in Python is a powerful tool for managing resource cleanup when objects are destroyed. It allows user to define specific actions that should be taken when an object is garbage collected, such as closing files, releasing locks, or closing network connections."
      ],
      "metadata": {
        "id": "tPMMPEEjMFbk"
      }
    },
    {
      "cell_type": "markdown",
      "source": [
        "22. What is the difference between @staticmethod and @classmethod in Python ?\n",
        "\n",
        "Ans>\n",
        "\n",
        " The difference between the Class method and the static method is:\n",
        "\n",
        "1. A class method takes cls as the first parameter while a static method needs no specific parameters.\n",
        "2. A class method can access or modify the class state while a static method can't access or modify it.\n",
        "3. In general, static methods know nothing about the class state. They are utility-type methods that take some parameters and work upon those parameters. On the other hand class methods must have class as a parameter.\n",
        "4. We use @classmethod decorator in python to create a class method and we use @staticmethod decorator to create a static method in python."
      ],
      "metadata": {
        "id": "g4Ptv-ExMYxt"
      }
    },
    {
      "cell_type": "markdown",
      "source": [
        "23. How does polymorphism work in Python with inheritance ?\n",
        "\n",
        "Ans>Inheritance-based polymorphism occurs when a subclass overrides a method from its parent class, providing a specific implementation. This process of re-implementing a method in the child class is known as Method Overriding."
      ],
      "metadata": {
        "id": "SG5d7XtbM87j"
      }
    },
    {
      "cell_type": "markdown",
      "source": [
        "24. What is method chaining in Python OOP ?\n",
        "\n",
        "Method chaining is a powerful technique in Python programming that allows us to call multiple methods on an object in a single, continuous line of code. This approach makes the code cleaner, more readable, and often easier to maintain. It is frequently used in data processing, object-oriented programming, and frameworks such as Pandas, Django ORM, and Flask.\n",
        "\n"
      ],
      "metadata": {
        "id": "GnOafTjrNcBH"
      }
    },
    {
      "cell_type": "markdown",
      "source": [
        "25. What is the purpose of the __call__ method in Python ?\n",
        "\n",
        "Ans>has a set of built-in methods and __call__ is one of them. The __call__ method enables Python programmers to write classes where the instances behave like functions and can be called like a function. When this method is defined, calling an object (obj(arg1, arg2)) automatically triggers obj.__call__(arg1, arg2). This makes objects behave like functions, enabling more flexible and reusable code."
      ],
      "metadata": {
        "id": "k8U5kukYNm8S"
      }
    },
    {
      "cell_type": "markdown",
      "source": [
        "# **PRACTICAL** **QUESTIONS**"
      ],
      "metadata": {
        "id": "q_s8TNuROAc9"
      }
    },
    {
      "cell_type": "code",
      "source": [
        "#1. Create a parent class Animal with a method speak() that prints a generic message. Create a child class Dog\n",
        "# that overrides the speak() method to print \"Bark!\" ?\n",
        "\n",
        "class Animal:\n",
        "    def speak(self):\n",
        "        print(\"Animal Sound!\")\n",
        "\n",
        "class Dog(Animal):\n",
        "    def speak(self):\n",
        "        print(\"Bark!\")\n",
        "\n",
        "dog1=Dog()\n",
        "dog1.speak()"
      ],
      "metadata": {
        "colab": {
          "base_uri": "https://localhost:8080/"
        },
        "id": "1KlaAs1QOJT2",
        "outputId": "bfb1f8b1-54d6-44a6-840b-0b9a9b287ef6"
      },
      "execution_count": 1,
      "outputs": [
        {
          "output_type": "stream",
          "name": "stdout",
          "text": [
            "Bark!\n"
          ]
        }
      ]
    },
    {
      "cell_type": "code",
      "source": [
        "#2. Write a program to create an abstract class Shape with a method area(). Derive classes Circle and Rectangle\n",
        "# from it and implement the area() method in both.\n",
        "\n",
        "from abc import ABC, abstractmethod\n",
        "\n",
        "\n",
        "class Shape(ABC):\n",
        "    @abstractmethod\n",
        "    def area(self):\n",
        "        pass\n",
        "\n",
        "class Circle(Shape):\n",
        "    def __init__(self, radius):\n",
        "        self.radius = radius\n",
        "\n",
        "    def area(self):\n",
        "        return 3.14 * self.radius * self.radius\n",
        "\n",
        "\n",
        "class Rectangle(Shape):\n",
        "    def __init__(self, length, breadth):\n",
        "        self.length = length\n",
        "        self.breadth = breadth\n",
        "\n",
        "    def area(self):\n",
        "        return self.length * self.breadth\n",
        "\n",
        "Area1 = Circle(7)\n",
        "\n",
        "print(f\"Area of Circle: {Area1.area()}\")\n",
        "\n",
        "Area2 = Rectangle(10, 5)\n",
        "print(f\"Area of Rectangle: {Area2.area()}\")"
      ],
      "metadata": {
        "colab": {
          "base_uri": "https://localhost:8080/"
        },
        "id": "2JVu-JkhO-Je",
        "outputId": "ed11ec3a-e647-448d-b270-108610026774"
      },
      "execution_count": 3,
      "outputs": [
        {
          "output_type": "stream",
          "name": "stdout",
          "text": [
            "Area of Circle: 153.86\n",
            "Area of Rectangle: 50\n"
          ]
        }
      ]
    },
    {
      "cell_type": "code",
      "source": [
        "#3.  Implement a multi-level inheritance scenario where a class Vehicle has an attribute type. Derive a class Car\n",
        "# and further derive a class ElectricCar that adds a battery attribute.\n",
        "\n",
        "class Vehicle:\n",
        "    def __init__(self, vehicle_type):\n",
        "        self.type = vehicle_type\n",
        "\n",
        "    def display_type(self):\n",
        "        print(f\"Vehicle Type: {self.type}\")\n",
        "\n",
        "\n",
        "class Car(Vehicle):\n",
        "    def __init__(self, vehicle_type, model):\n",
        "        super().__init__(vehicle_type) # Call the parent class constructor\n",
        "        self.model = model\n",
        "\n",
        "    def display_model(self):\n",
        "        print(f\"Car Model: {self.model}\")\n",
        "\n",
        "\n",
        "class ElectricCar(Car):\n",
        "    def __init__(self, vehicle_type, model, battery_capacity):\n",
        "        super().__init__(vehicle_type, model) # Call the parent class constructor\n",
        "        self.battery = battery_capacity\n",
        "\n",
        "    def display_battery(self):\n",
        "        print(f\"Battery Capacity: {self.battery} kWh\")\n",
        "\n",
        "Obj1 = ElectricCar(\"Car\", \"Model 3\", 75)\n",
        "Obj1.display_type()\n",
        "Obj1.display_model()\n",
        "Obj1.display_battery()\n"
      ],
      "metadata": {
        "colab": {
          "base_uri": "https://localhost:8080/"
        },
        "id": "BwQ4B_unQl_-",
        "outputId": "5d783121-9e4e-4634-f0f1-e5e6b560d679"
      },
      "execution_count": 4,
      "outputs": [
        {
          "output_type": "stream",
          "name": "stdout",
          "text": [
            "Vehicle Type: Car\n",
            "Car Model: Model 3\n",
            "Battery Capacity: 75 kWh\n"
          ]
        }
      ]
    },
    {
      "cell_type": "code",
      "source": [
        "#4. Demonstrate polymorphism by creating a base class Bird with a method fly(). Create two derived classes\n",
        "# Sparrow and Penguin that override the fly() method.\n",
        "\n",
        "class Bird:\n",
        "    def fly(self):\n",
        "        print(\"Birds\")\n",
        "\n",
        "class Sparrow(Bird):\n",
        "    def fly(self):\n",
        "        print(\"Sparrow is flying.\")\n",
        "\n",
        "class Penguin(Bird):\n",
        "    def fly(self):\n",
        "        print(\"Penguin is flying.\")\n",
        "\n",
        "Bird1 = Bird()\n",
        "Bird1.fly()\n",
        "\n",
        "Bird2 = Sparrow()\n",
        "Bird2.fly()\n",
        "\n",
        "Bird3 = Penguin()\n",
        "Bird3.fly()\n"
      ],
      "metadata": {
        "colab": {
          "base_uri": "https://localhost:8080/"
        },
        "id": "NRTRVwCpSIwA",
        "outputId": "35cfbb25-99ad-47c2-b9ec-1cd53c9c7865"
      },
      "execution_count": 5,
      "outputs": [
        {
          "output_type": "stream",
          "name": "stdout",
          "text": [
            "Birds\n",
            "Sparrow is flying.\n",
            "Penguin is flying.\n"
          ]
        }
      ]
    },
    {
      "cell_type": "code",
      "source": [
        "#5.Write a program to demonstrate encapsulation by creating a class BankAccount with private attributes\n",
        "# balance and methods to deposit, withdraw, and check balance.\n",
        "\n",
        "class BankAccount:\n",
        "    def __init__(self, Balance):\n",
        "        self.__Balance = Balance  # Private attribute\n",
        "        print(\"The initial amount in Bank Account is Rs.\", self.__Balance)\n",
        "\n",
        "    def deposit(self, amount):\n",
        "        if amount > 0:\n",
        "            self.__Balance += amount\n",
        "            print(f\"Deposited amount is: Rs. {amount} &  New balance: Rs. {self.__Balance}\")\n",
        "        else:\n",
        "            print(\"Deposited amount is null\")\n",
        "\n",
        "    def withdraw(self, amount):\n",
        "        if amount > 0:\n",
        "            if self.__Balance >= amount:\n",
        "                self.__Balance -= amount\n",
        "                print(f\"Withdrew amount is: Rs. {amount}& New balance: Rs.{self.__Balance}\")\n",
        "            else:\n",
        "                print(\"Insufficient balance,  Please enter correct amount to withdraw !\")\n",
        "        else:\n",
        "            print(\"Withdrawal amount is null.\")\n",
        "\n",
        "    def check_balance(self):\n",
        "        print(f\"Current balance: Rs.{self.__Balance}\")\n",
        "\n",
        "\n",
        "Money = BankAccount(1500)\n",
        "Money.check_balance\n",
        "Money.deposit(500)\n",
        "Money.withdraw(200)\n",
        "Money.withdraw(2000) # Test insufficient funds"
      ],
      "metadata": {
        "colab": {
          "base_uri": "https://localhost:8080/"
        },
        "id": "BWnc05QNSz8b",
        "outputId": "88de37c1-45e9-4582-90bb-9cd20e32b22d"
      },
      "execution_count": 17,
      "outputs": [
        {
          "output_type": "stream",
          "name": "stdout",
          "text": [
            "The initial amount in Bank Account is Rs. 1500\n",
            "Deposited amount is: Rs. 500 &  New balance: Rs. 2000\n",
            "Withdrew amount is: Rs. 200& New balance: Rs.1800\n",
            "Insufficient balance. Please enter correct amount to withdraw !\n"
          ]
        }
      ]
    },
    {
      "cell_type": "code",
      "source": [
        "#6. Demonstrate runtime polymorphism using a method play() in a base class Instrument. Derive classes Guitar\n",
        "#    and Piano that implement their own version of play().\n",
        "\n",
        "class Instrument:\n",
        "    def play(self):\n",
        "        print(\"Different types of Instruments!\")\n",
        "\n",
        "class Guitar(Instrument):\n",
        "    def play(self):\n",
        "        print(\"I am playing Guitar.\")\n",
        "\n",
        "class Piano(Instrument):\n",
        "    def play(self):\n",
        "        print(\"Now, I am playing Paino. \")\n",
        "\n",
        "class Violin(Instrument):\n",
        "    def play(self):\n",
        "        print(\"Atlast, I am playing Violin\")\n",
        "\n",
        "x1 = Instrument()\n",
        "x1.play()\n",
        "\n",
        "x2 = Guitar()\n",
        "x2.play()\n",
        "\n",
        "x3 = Piano()\n",
        "x3.play()\n",
        "\n",
        "x4 = Violin()\n",
        "x4.play()\n",
        "\n",
        "\n"
      ],
      "metadata": {
        "colab": {
          "base_uri": "https://localhost:8080/"
        },
        "id": "wht92T30WXrb",
        "outputId": "f01dfcb1-c220-4166-d019-de7fb1c5437a"
      },
      "execution_count": 19,
      "outputs": [
        {
          "output_type": "stream",
          "name": "stdout",
          "text": [
            "Different types of Instruments!\n",
            "I am playing Guitar.\n",
            "Now, I am playing Paino. \n",
            "Atlast, I am playing Violin\n"
          ]
        }
      ]
    },
    {
      "cell_type": "code",
      "source": [
        "#7.  Create a class MathOperations with a class method add_numbers() to add two numbers and a static\n",
        "#    method subtract_numbers() to subtract two numbers\n",
        "\n",
        "class MathOperations:\n",
        "    @classmethod\n",
        "    def add_numbers(cls, x, y):\n",
        "        return x + y\n",
        "\n",
        "    # Static method\n",
        "    @staticmethod\n",
        "    def subtract_numbers(x, y):\n",
        "        return x - y\n",
        "\n",
        "\n",
        "Add_result = MathOperations.add_numbers(16, 5)\n",
        "print(f\"Addition result: {Add_result}\")\n",
        "\n",
        "Minus_result= MathOperations.subtract_numbers(16, 5)\n",
        "print(f\"Subtraction result: {Minus_result}\")"
      ],
      "metadata": {
        "colab": {
          "base_uri": "https://localhost:8080/"
        },
        "id": "iR741ihgXTdh",
        "outputId": "3f799bcc-16a8-4fd8-f3b9-b8bc814f1ea4"
      },
      "execution_count": 24,
      "outputs": [
        {
          "output_type": "stream",
          "name": "stdout",
          "text": [
            "Addition result: 21\n",
            "Subtraction result: 11\n"
          ]
        }
      ]
    },
    {
      "cell_type": "code",
      "source": [
        "#8.  Implement a class Person with a class method to count the total number of persons created ?\n",
        "\n",
        "class Person:\n",
        "    Person_count = 0\n",
        "\n",
        "    def __init__(self, name):\n",
        "        self.name = name\n",
        "        print(f\"Person created: {self.name}\")\n",
        "        Person.add_count()\n",
        "\n",
        "    @classmethod\n",
        "    def add_count(cls):\n",
        "        cls.Person_count+= 1\n",
        "\n",
        "    @classmethod\n",
        "    def Total_count(cls):\n",
        "        return cls.Person_count\n",
        "\n",
        "p1 = Person(\"Pinki\")\n",
        "p2 = Person(\"Sheela\")\n",
        "p3 = Person(\"Peden\")\n",
        "p4 = Person(\"Sapna\")\n",
        "\n",
        "print(f\"Total number of persons created: {Person.Total_count()}\")"
      ],
      "metadata": {
        "colab": {
          "base_uri": "https://localhost:8080/"
        },
        "id": "6FoHfhUZYm3b",
        "outputId": "43a435a9-5fec-46d7-ad0d-eda0ad1ec030"
      },
      "execution_count": 27,
      "outputs": [
        {
          "output_type": "stream",
          "name": "stdout",
          "text": [
            "Person created: Pinki\n",
            "Person created: Sheela\n",
            "Person created: Peden\n",
            "Person created: Sapna\n",
            "Total number of persons created: 4\n"
          ]
        }
      ]
    },
    {
      "cell_type": "code",
      "source": [
        "#9.  Write a class Fraction with attributes numerator and denominator. Override the str method to display the\n",
        "#     fraction as \"numerator/denominator\" ?\n",
        "\n",
        "class Fraction:\n",
        "    def __init__(self, numerator, denominator):\n",
        "        self.numerator = numerator\n",
        "        self.denominator = denominator\n",
        "\n",
        "    def __str__(self):\n",
        "        return f\"{self.numerator}/{self.denominator}\"\n",
        "\n",
        "Num = Fraction(10, 13)\n",
        "print(Num)"
      ],
      "metadata": {
        "colab": {
          "base_uri": "https://localhost:8080/"
        },
        "id": "wY_I6m4gaWZS",
        "outputId": "e9f63b84-3067-49cf-fb36-2de76e360c96"
      },
      "execution_count": 29,
      "outputs": [
        {
          "output_type": "stream",
          "name": "stdout",
          "text": [
            "10/13\n"
          ]
        }
      ]
    },
    {
      "cell_type": "code",
      "source": [
        "#10. Demonstrate operator overloading by creating a class Vector and overriding the add method to add two vectors ?\n",
        "\n",
        "class Vector:\n",
        "    def __init__(self, a, b):\n",
        "        self.a = a\n",
        "        self.b = b\n",
        "\n",
        "\n",
        "    def __add__(self, two):\n",
        "        if isinstance(two, Vector):\n",
        "            return Vector(self.a + two.a, self.b + two.b)\n",
        "        else:\n",
        "            raise TypeError(\"can't add \")\n",
        "\n",
        "    def __str__(self):\n",
        "        return f\"Vector({self.a}, {self.b})\"\n",
        "\n",
        "\n",
        "v1 = Vector(3, 7)\n",
        "v2 = Vector(7, 9)\n",
        "\n",
        "result = v1 + v2\n",
        "print(result)"
      ],
      "metadata": {
        "colab": {
          "base_uri": "https://localhost:8080/"
        },
        "id": "qSPeiTH7bNVA",
        "outputId": "461d73cb-d7eb-4aa3-d808-94f325fd9500"
      },
      "execution_count": 31,
      "outputs": [
        {
          "output_type": "stream",
          "name": "stdout",
          "text": [
            "Vector(10, 16)\n"
          ]
        }
      ]
    },
    {
      "cell_type": "code",
      "source": [
        "#11.  Create a class Person with attributes name and age. Add a method greet() that prints \"Hello, my name is\n",
        "#       {name} and I am {age} years old.\"\n",
        "\n",
        "class Person:\n",
        "  def __init__(self, name, age):\n",
        "    self.name = name\n",
        "    self.age = age\n",
        "\n",
        "  def greet(self):\n",
        "    print(f\"Hello, My name is {self.name} and I am {self.age} years old.\")\n",
        "\n",
        "p1 = Person(\"Pinki Rai\", 24)\n",
        "p1.greet()\n",
        "\n",
        "\n"
      ],
      "metadata": {
        "colab": {
          "base_uri": "https://localhost:8080/"
        },
        "id": "lX6e8vEQw9rf",
        "outputId": "d1fa9099-6ffe-404d-dd14-6b232d4a82b7"
      },
      "execution_count": 3,
      "outputs": [
        {
          "output_type": "stream",
          "name": "stdout",
          "text": [
            "Hello, my name is Pinki Rai and I am 24 years old.\n"
          ]
        }
      ]
    },
    {
      "cell_type": "code",
      "source": [
        "#12.  Implement a class Student with attributes name and grades. Create a method average_grade() to compute\n",
        "#       the average of the grades.\n",
        "\n",
        "class Student:\n",
        "  def __init__(self, name, grades):\n",
        "    self.name = name\n",
        "    self.grades = grades\n",
        "\n",
        "  def average_grade(self):\n",
        "      if not self.grades:\n",
        "          return \"No grades\"\n",
        "      return sum(self.grades) / len(self.grades)\n",
        "\n",
        "student1 = Student(\"Pinki Rai\", [11,12,13,14,15,16])\n",
        "print(f\"{student1.name}'s average grade: {student1.average_grade()}\")\n",
        "\n",
        "\n"
      ],
      "metadata": {
        "colab": {
          "base_uri": "https://localhost:8080/"
        },
        "id": "Qk-u4lk7xuYH",
        "outputId": "ff835a22-0140-445b-eabb-1e728931603c"
      },
      "execution_count": 9,
      "outputs": [
        {
          "output_type": "stream",
          "name": "stdout",
          "text": [
            "Pinki Rai's average grade: 13.5\n"
          ]
        }
      ]
    },
    {
      "cell_type": "code",
      "source": [
        "#13. Create a class Rectangle with methods set_dimensions() to set the dimensions and area() to calculate the area ?\n",
        "\n",
        "class Rectangle:\n",
        "  def __init__(self, length,breadth):\n",
        "    self.length = length\n",
        "    self.breadth = breadth\n",
        "\n",
        "  def area(self):\n",
        "    return self.length * self.breadth\n",
        "\n",
        "calc = Rectangle(18, 5)\n",
        "print(f\"Area of Rectangle: {calc.area()}\")"
      ],
      "metadata": {
        "colab": {
          "base_uri": "https://localhost:8080/"
        },
        "id": "gpZra_hbzcF8",
        "outputId": "9c620256-3cfd-4178-f3a4-68a17d5642dd"
      },
      "execution_count": 11,
      "outputs": [
        {
          "output_type": "stream",
          "name": "stdout",
          "text": [
            "Area of Rectangle: 90\n"
          ]
        }
      ]
    },
    {
      "cell_type": "code",
      "source": [
        "#14. Create a class Employee with a method calculate_salary() that computes the salary based on hours worked and hourly rate. Create a derived class Manager\n",
        "#      that adds a bonus to the salary ?\n",
        "\n",
        "\n",
        "class Employee:\n",
        "    def __init__(self, Name, Hours_worked, Hourly_rate):\n",
        "        self.Name = Name\n",
        "        self.Hours_worked = Hours_worked\n",
        "        self.Hourly_rate = Hourly_rate\n",
        "\n",
        "class Manager(Employee):\n",
        "    def __init__(self, Name, Hours_worked, Hourly_rate, Bonus):\n",
        "        super().__init__(Name, Hours_worked, Hourly_rate)\n",
        "        self.Bonus = Bonus\n",
        "\n",
        "    def compute(self):\n",
        "        return self.Hours_worked * self.Hourly_rate + self.Bonus\n",
        "\n",
        "Emp1 = Manager(\"Pinki\", 8, 1000, 1500)\n",
        "Emp1.compute()\n",
        "print(f\"The Salary of {Emp1.Name} is Rs: {Emp1.compute()}\")"
      ],
      "metadata": {
        "colab": {
          "base_uri": "https://localhost:8080/"
        },
        "id": "w8IeOvmh0HE1",
        "outputId": "d982dc32-c9db-44ad-c964-90ea5269f0d2"
      },
      "execution_count": 16,
      "outputs": [
        {
          "output_type": "stream",
          "name": "stdout",
          "text": [
            "The Salary of Pinki is Rs: 9500\n"
          ]
        }
      ]
    },
    {
      "cell_type": "code",
      "source": [
        "#15.   Create a class Product with attributes name, price, and quantity. Implement a method total_price() that\n",
        "#         calculates the total price of the product.\n",
        "\n",
        "\n",
        "class Product:\n",
        "    def __init__(self, Name, price, quantity):\n",
        "        self.Name = Name\n",
        "        self.price = price\n",
        "        self.quantity = quantity\n",
        "\n",
        "    def total_price(self):\n",
        "        return self.price * self.quantity\n",
        "\n",
        "Prod1 = Product(\"Pen\", 20, 10)\n",
        "print(f\"Total price of {Prod1.Name} is Rs: {Prod1.total_price()}\")"
      ],
      "metadata": {
        "colab": {
          "base_uri": "https://localhost:8080/"
        },
        "id": "fITjszsO2Lr8",
        "outputId": "0ef5f634-3862-4a40-a8ba-78a72ac458bb"
      },
      "execution_count": 17,
      "outputs": [
        {
          "output_type": "stream",
          "name": "stdout",
          "text": [
            "Total price of Pen is Rs: 200\n"
          ]
        }
      ]
    },
    {
      "cell_type": "code",
      "source": [
        "#16. Create a class Animal with an abstract method sound(). Create two derived classes Cow and Sheep that implement the sound() method?\n",
        "\n",
        "from abc import ABC, abstractmethod\n",
        "\n",
        "class Animal:\n",
        "\n",
        "    @abstractmethod\n",
        "    def sound(self):\n",
        "        pass\n",
        "\n",
        "class Cow(Animal):\n",
        "    def sound(self):\n",
        "        print(\"Cow makes sound of Moo!\")\n",
        "\n",
        "class Sheep(Animal):\n",
        "    def sound(self):\n",
        "        print(\"sheep makes sound of Baa!\")\n",
        "\n",
        "Animal1 = Cow()\n",
        "Animal1.sound()\n",
        "\n",
        "Animal2 = Sheep()\n",
        "Animal2.sound()\n",
        "\n"
      ],
      "metadata": {
        "colab": {
          "base_uri": "https://localhost:8080/"
        },
        "id": "UUUrq21X2r_C",
        "outputId": "81c66f7f-7059-4642-8e61-9db45d1a8930"
      },
      "execution_count": 20,
      "outputs": [
        {
          "output_type": "stream",
          "name": "stdout",
          "text": [
            "Cow makes sound of Moo!\n",
            "sheep makes sound of Baa!\n"
          ]
        }
      ]
    },
    {
      "cell_type": "code",
      "source": [
        "#17.  Create a class Book with attributes title, author, and year_published. Add a method get_book_info() that returns a formatted string with the book's details ?\n",
        "\n",
        "class Book:\n",
        "    def __init__(self, title, author, year_published):\n",
        "        self.title = title\n",
        "        self.author = author\n",
        "        self.year_published = year_published\n",
        "\n",
        "    def get_book_info(self):\n",
        "      return f\"The title of this book is: {self.title}\\nAuthor name is: {self.author}\\nPublished is on: {self.year_published} \"\n",
        "\n",
        "Book1 = Book(\"THE ART OF BEING ALONE\", \"Renuka Gavrani\", 2023)\n",
        "print(Book1.get_book_info())"
      ],
      "metadata": {
        "colab": {
          "base_uri": "https://localhost:8080/"
        },
        "id": "vVBIbFSA3Y-a",
        "outputId": "116e529b-86c4-4050-b673-1f5f5c8991d8"
      },
      "execution_count": 25,
      "outputs": [
        {
          "output_type": "stream",
          "name": "stdout",
          "text": [
            "The title of this book is: THE ART OF BEING ALONE\n",
            "Author name is: Renuka Gavrani\n",
            "Published is on: 2023 \n"
          ]
        }
      ]
    },
    {
      "cell_type": "code",
      "source": [
        "#18.  Create a class House with attributes address and price. Create a derived class Mansion that adds an attribute number_of_rooms ?\n",
        "\n",
        "class House:\n",
        "    def __init__(self, address, price):\n",
        "        self.address = address\n",
        "        self.price = price\n",
        "\n",
        "class Mansion(House):\n",
        "    def __init__(self, address, price, number_of_rooms):\n",
        "        super().__init__(address, price)\n",
        "        self.number_of_rooms = number_of_rooms\n",
        "\n",
        "    def add(self):\n",
        "      return self.price * self.number_of_rooms\n",
        "\n",
        "room1 = Mansion(\"ACCOM HOTEL\", 1200, 3)\n",
        "\n",
        "print(f\"hotel name is: {room1.address}\\ntotal price of given number of rooms is:{room1.add()}\")"
      ],
      "metadata": {
        "colab": {
          "base_uri": "https://localhost:8080/"
        },
        "id": "oETkngGK5Ez3",
        "outputId": "c6128855-bdc1-49b6-8acf-577c85adbdc5"
      },
      "execution_count": 27,
      "outputs": [
        {
          "output_type": "stream",
          "name": "stdout",
          "text": [
            "hotel name is: ACCOM HOTEL\n",
            "total price of given number of rooms is:3600\n"
          ]
        }
      ]
    }
  ]
}